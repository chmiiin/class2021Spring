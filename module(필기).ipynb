{
  "nbformat": 4,
  "nbformat_minor": 0,
  "metadata": {
    "colab": {
      "name": "module.ipynb",
      "provenance": [],
      "authorship_tag": "ABX9TyNbNlrhJC+z9BTQqr4+QFAS",
      "include_colab_link": true
    },
    "kernelspec": {
      "name": "python3",
      "display_name": "Python 3"
    },
    "language_info": {
      "name": "python"
    }
  },
  "cells": [
    {
      "cell_type": "markdown",
      "metadata": {
        "id": "view-in-github",
        "colab_type": "text"
      },
      "source": [
        "<a href=\"https://colab.research.google.com/github/chmiiin/class2021Spring/blob/main/module(%ED%95%84%EA%B8%B0).ipynb\" target=\"_parent\"><img src=\"https://colab.research.google.com/assets/colab-badge.svg\" alt=\"Open In Colab\"/></a>"
      ]
    },
    {
      "cell_type": "markdown",
      "metadata": {
        "id": "e_WkQj01bf9p"
      },
      "source": [
        "class = 함수 + 변수\n",
        "- 변수: self.result\n",
        "  - self: class가 만들어내는 자기 자신\n",
        "  - def__ init__(self):\n",
        "    \n",
        "    ㄴ self.result=0\n"
      ]
    },
    {
      "cell_type": "code",
      "metadata": {
        "id": "aDfKOIEWbeDZ"
      },
      "source": [
        "class cal:\n",
        "  def __init__(self):\n",
        "    self.result = 0\n",
        "  def add(self, n):\n",
        "    self.result += n\n",
        "    return self.result"
      ],
      "execution_count": 16,
      "outputs": []
    },
    {
      "cell_type": "code",
      "metadata": {
        "colab": {
          "base_uri": "https://localhost:8080/"
        },
        "id": "G1hBHsh-cjhU",
        "outputId": "78edb294-da3f-4fda-9b38-2b60ca23e3e9"
      },
      "source": [
        "A = cal()\n",
        "A.result"
      ],
      "execution_count": 17,
      "outputs": [
        {
          "output_type": "execute_result",
          "data": {
            "text/plain": [
              "0"
            ]
          },
          "metadata": {
            "tags": []
          },
          "execution_count": 17
        }
      ]
    },
    {
      "cell_type": "code",
      "metadata": {
        "colab": {
          "base_uri": "https://localhost:8080/"
        },
        "id": "ja7LFcDWcPos",
        "outputId": "7ee105b3-9111-421f-bd76-a5772e140000"
      },
      "source": [
        "A.add(4)"
      ],
      "execution_count": 18,
      "outputs": [
        {
          "output_type": "execute_result",
          "data": {
            "text/plain": [
              "4"
            ]
          },
          "metadata": {
            "tags": []
          },
          "execution_count": 18
        }
      ]
    },
    {
      "cell_type": "code",
      "metadata": {
        "colab": {
          "base_uri": "https://localhost:8080/"
        },
        "id": "0emFG0KCdLIX",
        "outputId": "6e83aab0-13e9-4618-d8fc-9035b071832d"
      },
      "source": [
        "A.add(6)"
      ],
      "execution_count": 19,
      "outputs": [
        {
          "output_type": "execute_result",
          "data": {
            "text/plain": [
              "10"
            ]
          },
          "metadata": {
            "tags": []
          },
          "execution_count": 19
        }
      ]
    },
    {
      "cell_type": "code",
      "metadata": {
        "id": "Z9eaajx1dmOh"
      },
      "source": [
        "B = cal()"
      ],
      "execution_count": 21,
      "outputs": []
    },
    {
      "cell_type": "code",
      "metadata": {
        "colab": {
          "base_uri": "https://localhost:8080/"
        },
        "id": "IKgk8levdoyt",
        "outputId": "64710fbb-1f95-4206-e032-fd0fce5c5234"
      },
      "source": [
        "B.result"
      ],
      "execution_count": 22,
      "outputs": [
        {
          "output_type": "execute_result",
          "data": {
            "text/plain": [
              "0"
            ]
          },
          "metadata": {
            "tags": []
          },
          "execution_count": 22
        }
      ]
    },
    {
      "cell_type": "markdown",
      "metadata": {
        "id": "FGoaRqE5e0gm"
      },
      "source": [
        "module 파일 이름명: .py\n",
        "- module: 모든 class와 function이 합쳐진 것\n",
        "\n",
        "package는 module을 모은것"
      ]
    },
    {
      "cell_type": "markdown",
      "metadata": {
        "id": "QcEBJuMMgHiw"
      },
      "source": [
        "# **How to use package (numpy)**"
      ]
    },
    {
      "cell_type": "code",
      "metadata": {
        "id": "g-p_WXESgGSU"
      },
      "source": [
        "import numpy as np\n",
        "n = np.random.randn(100)"
      ],
      "execution_count": null,
      "outputs": []
    },
    {
      "cell_type": "markdown",
      "metadata": {
        "id": "qZvGqO1DgTCh"
      },
      "source": [
        "- matplotlib\n",
        "  - pyplot.py\n",
        "    - function\n",
        "      - hist\n",
        "    - class"
      ]
    },
    {
      "cell_type": "code",
      "metadata": {
        "id": "yejgqjuDgSny"
      },
      "source": [
        "import matplotlib\n",
        "import matplotlib.pyplot\n",
        "from matplotlib import pyplot\n",
        "from matplotlib.pyplot import hist"
      ],
      "execution_count": null,
      "outputs": []
    },
    {
      "cell_type": "code",
      "metadata": {
        "id": "bUYSwDCug0NA"
      },
      "source": [
        "\n"
      ],
      "execution_count": null,
      "outputs": []
    }
  ]
}