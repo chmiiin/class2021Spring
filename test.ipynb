{
  "nbformat": 4,
  "nbformat_minor": 0,
  "metadata": {
    "colab": {
      "name": "Untitled0.ipynb",
      "provenance": [],
      "authorship_tag": "ABX9TyNC8Jbv6WzF5D77jBGEGExy",
      "include_colab_link": true
    },
    "kernelspec": {
      "name": "python3",
      "display_name": "Python 3"
    }
  },
  "cells": [
    {
      "cell_type": "markdown",
      "metadata": {
        "id": "view-in-github",
        "colab_type": "text"
      },
      "source": [
        "<a href=\"https://colab.research.google.com/github/chmiiin/class2021Spring/blob/main/test.ipynb\" target=\"_parent\"><img src=\"https://colab.research.google.com/assets/colab-badge.svg\" alt=\"Open In Colab\"/></a>"
      ]
    },
    {
      "cell_type": "markdown",
      "metadata": {
        "id": "BsNJjxiEUD3M"
      },
      "source": [
        "# 오늘 배운것: \n",
        "## github 계정 만들기, login 해서  repository 만들기 (이름은 class2021Spring)\n",
        "\n",
        "\n",
        "1.   python\n",
        "2.   markdown\n",
        "\n"
      ]
    },
    {
      "cell_type": "code",
      "metadata": {
        "colab": {
          "base_uri": "https://localhost:8080/",
          "height": 0
        },
        "id": "2s-2dcfbUN42",
        "outputId": "e1af611f-51ca-48e8-874c-197f3c4d6999"
      },
      "source": [
        "a = 1\n",
        "b = 1\n",
        "c = a + b\n",
        "c\n"
      ],
      "execution_count": 3,
      "outputs": [
        {
          "output_type": "execute_result",
          "data": {
            "text/plain": [
              "2"
            ]
          },
          "metadata": {
            "tags": []
          },
          "execution_count": 3
        }
      ]
    },
    {
      "cell_type": "markdown",
      "metadata": {
        "id": "6i1AfV3GV5zx"
      },
      "source": [
        "## *우리는* 파이썬을 배우게 됩니다."
      ]
    },
    {
      "cell_type": "markdown",
      "metadata": {
        "id": "KdE6ea4qWNM9"
      },
      "source": [
        "# 파이썬을 어디서 배우나요?\n",
        "### Jump to python"
      ]
    },
    {
      "cell_type": "code",
      "metadata": {
        "colab": {
          "base_uri": "https://localhost:8080/",
          "height": 0
        },
        "id": "n8Djl-_VW8IA",
        "outputId": "0a926ceb-322e-4c00-adf8-e12c7021ff8a"
      },
      "source": [
        "a = 1\n",
        "a "
      ],
      "execution_count": 2,
      "outputs": [
        {
          "output_type": "execute_result",
          "data": {
            "text/plain": [
              "1"
            ]
          },
          "metadata": {
            "tags": []
          },
          "execution_count": 2
        }
      ]
    }
  ]
}