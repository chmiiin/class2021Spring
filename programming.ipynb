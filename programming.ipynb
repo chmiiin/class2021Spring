{
  "nbformat": 4,
  "nbformat_minor": 0,
  "metadata": {
    "colab": {
      "name": "Programming.ipynb",
      "provenance": [],
      "authorship_tag": "ABX9TyPnr9DsxAJ3pldlhnpPIrBd",
      "include_colab_link": true
    },
    "kernelspec": {
      "name": "python3",
      "display_name": "Python 3"
    }
  },
  "cells": [
    {
      "cell_type": "markdown",
      "metadata": {
        "id": "view-in-github",
        "colab_type": "text"
      },
      "source": [
        "<a href=\"https://colab.research.google.com/github/chmiiin/class2021Spring/blob/main/Programming.ipynb\" target=\"_parent\"><img src=\"https://colab.research.google.com/assets/colab-badge.svg\" alt=\"Open In Colab\"/></a>"
      ]
    },
    {
      "cell_type": "code",
      "metadata": {
        "id": "uPUM3a0Mou9p"
      },
      "source": [
        ""
      ],
      "execution_count": null,
      "outputs": []
    },
    {
      "cell_type": "code",
      "metadata": {
        "id": "-Gjjs0JhpGe4"
      },
      "source": [
        ""
      ],
      "execution_count": null,
      "outputs": []
    },
    {
      "cell_type": "markdown",
      "metadata": {
        "id": "uyG_ytarpIR_"
      },
      "source": [
        "# Programming \n",
        "***단어***\n",
        "단어 + 문법 ~> 인간 언어\n",
        "예) 사과 = 🍎  ~> 사람\n",
        "   a = 1 ~> comp\n",
        "- 사과는 단어 & 1 => 변수(variable)\n",
        "- 그림은 내용 & a \n",
        "- = 은 오른쪽 내용을 왼쪽이 assign\n",
        "\n",
        "***문법*** = 제어문\n",
        "\n",
        "\n",
        "1.   반복: for\n",
        "2.   조건: if\n",
        "\n",
        "***함수***\n",
        "- 입출력 관계\n",
        "-> 입력 -> 변화(Funtion) -> 출력\n",
        "예) y = f(x)\n",
        "  y는 출력\n",
        "  x는 입력\n",
        "- y = ax + b\n",
        "function add (a,b\n",
        "c = a + b\n",
        "\n",
        "\n"
      ]
    }
  ]
}
