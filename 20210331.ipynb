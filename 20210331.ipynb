{
  "nbformat": 4,
  "nbformat_minor": 0,
  "metadata": {
    "colab": {
      "name": "20210331.ipynb",
      "provenance": [],
      "authorship_tag": "ABX9TyMmEctzUaSHOIHwrUpqIu0S",
      "include_colab_link": true
    },
    "kernelspec": {
      "name": "python3",
      "display_name": "Python 3"
    },
    "language_info": {
      "name": "python"
    }
  },
  "cells": [
    {
      "cell_type": "markdown",
      "metadata": {
        "id": "view-in-github",
        "colab_type": "text"
      },
      "source": [
        "<a href=\"https://colab.research.google.com/github/chmiiin/class2021Spring/blob/main/20210331.ipynb\" target=\"_parent\"><img src=\"https://colab.research.google.com/assets/colab-badge.svg\" alt=\"Open In Colab\"/></a>"
      ]
    },
    {
      "cell_type": "code",
      "metadata": {
        "id": "c05q_WEk4TNT"
      },
      "source": [
        ""
      ],
      "execution_count": null,
      "outputs": []
    },
    {
      "cell_type": "markdown",
      "metadata": {
        "id": "ihKxjClY4TuW"
      },
      "source": [
        "# **'아' 소리**\n",
        "- pitch: 241.6 Hz\n",
        "- intensity: 82.95 dB\n",
        "- formant: \n",
        "  - 1: 946.4 Hz \n",
        "  - 2: 1516 Hz\n",
        "- duration: 0.6935333 sec\n",
        "\n",
        "\n",
        "# **'애' 소리**\n",
        "- pitch: 240.9 Hz\n",
        "- intensity: 80.78 dB\n",
        "- formant: \n",
        "  - 1: 687.5 Hz \n",
        "  - 2: 2707 Hz\n",
        "- duration: 0.688367 sec\n"
      ]
    }
  ]
}