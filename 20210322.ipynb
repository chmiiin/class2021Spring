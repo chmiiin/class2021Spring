{
  "nbformat": 4,
  "nbformat_minor": 0,
  "metadata": {
    "colab": {
      "name": "20210322.ipynb",
      "provenance": [],
      "authorship_tag": "ABX9TyOyCyh0RoW7Ihuy6hUeq1et",
      "include_colab_link": true
    },
    "kernelspec": {
      "name": "python3",
      "display_name": "Python 3"
    },
    "language_info": {
      "name": "python"
    }
  },
  "cells": [
    {
      "cell_type": "markdown",
      "metadata": {
        "id": "view-in-github",
        "colab_type": "text"
      },
      "source": [
        "<a href=\"https://colab.research.google.com/github/chmiiin/class2021Spring/blob/main/20210322.ipynb\" target=\"_parent\"><img src=\"https://colab.research.google.com/assets/colab-badge.svg\" alt=\"Open In Colab\"/></a>"
      ]
    },
    {
      "cell_type": "code",
      "metadata": {
        "id": "ZmuBrgMrUSeR"
      },
      "source": [
        "def add (a,b) :\n",
        "  return a+b\n",
        "\n",
        "def subtract (a,b) :\n",
        "  return a-b\n",
        "\n",
        "def multiply (a,b) :\n",
        "  return a*b\n",
        "\n",
        "def divide (a,b) :\n",
        "  return a/b\n"
      ],
      "execution_count": null,
      "outputs": []
    },
    {
      "cell_type": "markdown",
      "metadata": {
        "id": "9UBYB0rNUfyf"
      },
      "source": [
        "**함수 쓰는 방법**\n",
        "- add: addition\n",
        "\n",
        "  def addition (x1,x2)\n",
        "  \n",
        "  y = x1+x2 \n",
        "  \n",
        "  return: x1+x2\n",
        "\n",
        "\n",
        "**함수 사용 이유**: \n",
        "- 반복적인 계산을 최소화하기 위해서\n",
        "\n",
        "\n",
        "**1차 함수**\n",
        "- def func1 (x)\n",
        "\n",
        " a=1, b=2\n",
        " \n",
        " y=ax+b\n",
        " \n",
        " return y"
      ]
    },
    {
      "cell_type": "code",
      "metadata": {
        "id": "ybJZN5czVEtV"
      },
      "source": [
        "c = add (1,2,); print(c)\n",
        "c = subtract(1,2); print(c)\n",
        "c = multiply (1,2); print(c)\n",
        "c = divide(1,2); print(c)"
      ],
      "execution_count": null,
      "outputs": []
    },
    {
      "cell_type": "markdown",
      "metadata": {
        "id": "yAyzIwcWVbvf"
      },
      "source": [
        "def func1(x,a,b)\n",
        "\n",
        "=> y=ax+b\n",
        "  \n",
        "  return y"
      ]
    },
    {
      "cell_type": "markdown",
      "metadata": {
        "id": "k7WFijmiZd9Z"
      },
      "source": [
        "# **연습**"
      ]
    },
    {
      "cell_type": "code",
      "metadata": {
        "id": "WgZy8VVUZKLY"
      },
      "source": [
        "def func2 (x,a,b,c):\n",
        "  y=a*x**2+b*x+c\n",
        "  return y"
      ],
      "execution_count": 6,
      "outputs": []
    },
    {
      "cell_type": "code",
      "metadata": {
        "colab": {
          "base_uri": "https://localhost:8080/"
        },
        "id": "m97_CSHPZL2G",
        "outputId": "2b30c761-47dc-41fb-ced6-f5f6d7c529f9"
      },
      "source": [
        "func2(2,4,6,8)"
      ],
      "execution_count": 7,
      "outputs": [
        {
          "output_type": "execute_result",
          "data": {
            "text/plain": [
              "36"
            ]
          },
          "metadata": {
            "tags": []
          },
          "execution_count": 7
        }
      ]
    }
  ]
}